{
 "cells": [
  {
   "cell_type": "markdown",
   "metadata": {},
   "source": [
    "We worked on 3 types of files\n",
    "\n",
    "1. txt\n",
    "2. csv\n",
    "3. json"
   ]
  },
  {
   "cell_type": "markdown",
   "metadata": {},
   "source": [
    "steps for reading Json file\n",
    "\n",
    "1. import json\n",
    "2. opening file\n",
    "3. json.load(f)"
   ]
  },
  {
   "cell_type": "markdown",
   "metadata": {},
   "source": [
    "to write a json file\n",
    "\n",
    "we have to use json.dump"
   ]
  },
  {
   "cell_type": "code",
   "execution_count": null,
   "metadata": {},
   "outputs": [],
   "source": [
    "# f = open(\"xyz.json\", \"w\")\n",
    "import json\n",
    "\n",
    "json.dump{\"Name\":\"Waqas\", \"Class\":\"A.I\", \"Time\":3},\n",
    "            open(\"xyz.json\", \"w\"))"
   ]
  },
  {
   "cell_type": "code",
   "execution_count": null,
   "metadata": {},
   "outputs": [],
   "source": [
    "import json \n",
    "\n",
    "with open(\"xyz.json\", \"w\") as f:\n",
    "    json.dump({\"Name\":\"Waqas\", \"Class\":\"A.I\", \"Time\":3}, f)"
   ]
  },
  {
   "cell_type": "code",
   "execution_count": null,
   "metadata": {},
   "outputs": [],
   "source": [
    "with open(\"def.txt\", \"w\") as new_file:\n",
    "    new_file.write(\"abcdefgh\")\n",
    "    "
   ]
  },
  {
   "cell_type": "markdown",
   "metadata": {},
   "source": [
    "valild modes for opening statements\n",
    "\n",
    "1. \"r\" i.e read\n",
    "2. \"w\" i.e write\n",
    "3. \"a\" i.e append"
   ]
  },
  {
   "cell_type": "markdown",
   "metadata": {},
   "source": [
    "in text file, can we store all python object?\n",
    "\n",
    "False"
   ]
  },
  {
   "cell_type": "markdown",
   "metadata": {},
   "source": [
    "if you open a file for reading csv? how would u read?\n",
    "\n",
    "csv.reader(file_handler)"
   ]
  },
  {
   "cell_type": "code",
   "execution_count": null,
   "metadata": {},
   "outputs": [],
   "source": [
    "with open(\"abc.txt\", \"a\") as f:\n",
    "    f.write(\"Waqas\")"
   ]
  },
  {
   "cell_type": "markdown",
   "metadata": {},
   "source": [
    "# Modules"
   ]
  },
  {
   "cell_type": "markdown",
   "metadata": {},
   "source": [
    "Modules are a collection of vairables, functions and classes"
   ]
  },
  {
   "cell_type": "markdown",
   "metadata": {},
   "source": [
    "# numpy\n",
    "\n",
    "1. import numpy   \n",
    "2. import numpy as np   \n",
    "3. from numpy import mean  \n",
    "\n"
   ]
  },
  {
   "cell_type": "markdown",
   "metadata": {},
   "source": [
    "# pandas\n",
    "\n",
    "1. import pandas\n",
    "2. import pandas as pd\n",
    "3. from pandas import median"
   ]
  },
  {
   "cell_type": "markdown",
   "metadata": {},
   "source": [
    "# Planning for the things to go wrong"
   ]
  },
  {
   "cell_type": "markdown",
   "metadata": {},
   "source": [
    "error handling\n",
    "\n",
    "it is because of runtime error\n",
    "\n",
    "we have two main things:\n",
    "   \n",
    "1. try\n",
    "2. except\n"
   ]
  },
  {
   "cell_type": "code",
   "execution_count": 2,
   "metadata": {},
   "outputs": [
    {
     "ename": "TypeError",
     "evalue": "unsupported operand type(s) for +: 'int' and 'str'",
     "output_type": "error",
     "traceback": [
      "\u001b[1;31m---------------------------------------------------------------------------\u001b[0m",
      "\u001b[1;31mTypeError\u001b[0m                                 Traceback (most recent call last)",
      "\u001b[1;32m<ipython-input-2-2143ab598aed>\u001b[0m in \u001b[0;36m<module>\u001b[1;34m\u001b[0m\n\u001b[1;32m----> 1\u001b[1;33m \u001b[1;36m1\u001b[0m \u001b[1;33m+\u001b[0m \u001b[1;34m\"ok\"\u001b[0m\u001b[1;33m\u001b[0m\u001b[1;33m\u001b[0m\u001b[0m\n\u001b[0m",
      "\u001b[1;31mTypeError\u001b[0m: unsupported operand type(s) for +: 'int' and 'str'"
     ]
    }
   ],
   "source": [
    "1 + \"ok\""
   ]
  },
  {
   "cell_type": "code",
   "execution_count": 14,
   "metadata": {},
   "outputs": [
    {
     "name": "stdout",
     "output_type": "stream",
     "text": [
      "Enter some number2\n",
      "Enter some number27\n",
      "29\n",
      "I will always run\n"
     ]
    }
   ],
   "source": [
    "a = int(input(\"Enter some number\"))\n",
    "b = input(\"Enter some number\")\n",
    "\n",
    "try:\n",
    "    c = a+int(b)\n",
    "    \n",
    "except TypeError:\n",
    "    print(\"You cant enter any alphabet\")\n",
    "except ValueError:\n",
    "    print(\"You cant enter any alphabet\")\n",
    "    \n",
    "except:\n",
    "    print(\"You are not following instructions\")\n",
    "    \n",
    "else:\n",
    "    print(c)\n",
    "\n",
    "finally:\n",
    "    print(\"I will always run\")"
   ]
  },
  {
   "cell_type": "code",
   "execution_count": null,
   "metadata": {},
   "outputs": [],
   "source": []
  }
 ],
 "metadata": {
  "kernelspec": {
   "display_name": "Python 3",
   "language": "python",
   "name": "python3"
  },
  "language_info": {
   "codemirror_mode": {
    "name": "ipython",
    "version": 3
   },
   "file_extension": ".py",
   "mimetype": "text/x-python",
   "name": "python",
   "nbconvert_exporter": "python",
   "pygments_lexer": "ipython3",
   "version": "3.7.5"
  }
 },
 "nbformat": 4,
 "nbformat_minor": 2
}
