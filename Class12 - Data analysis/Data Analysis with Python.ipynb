{
 "cells": [
  {
   "cell_type": "code",
   "execution_count": 2,
   "metadata": {},
   "outputs": [],
   "source": [
    "import csv\n",
    "\n",
    "with open (\"AppleStore.csv\", encoding = \"utf-8\") as f:\n",
    "    data = csv.reader(f)\n",
    "    applestore = list(data)"
   ]
  },
  {
   "cell_type": "code",
   "execution_count": 3,
   "metadata": {},
   "outputs": [
    {
     "data": {
      "text/plain": [
       "7198"
      ]
     },
     "execution_count": 3,
     "metadata": {},
     "output_type": "execute_result"
    }
   ],
   "source": [
    "len(applestore)"
   ]
  },
  {
   "cell_type": "code",
   "execution_count": 5,
   "metadata": {},
   "outputs": [
    {
     "name": "stdout",
     "output_type": "stream",
     "text": [
      "[['id', 'track_name', 'size_bytes', 'currency', 'price', 'rating_count_tot', 'rating_count_ver', 'user_rating', 'user_rating_ver', 'ver', 'cont_rating', 'prime_genre', 'sup_devices.num', 'ipadSc_urls.num', 'lang.num', 'vpp_lic'], ['284882215', 'Facebook', '389879808', 'USD', '0.0', '2974676', '212', '3.5', '3.5', '95.0', '4+', 'Social Networking', '37', '1', '29', '1'], ['389801252', 'Instagram', '113954816', 'USD', '0.0', '2161558', '1289', '4.5', '4.0', '10.23', '12+', 'Photo & Video', '37', '0', '29', '1']]\n"
     ]
    }
   ],
   "source": [
    "print(applestore[:3])"
   ]
  },
  {
   "cell_type": "code",
   "execution_count": 7,
   "metadata": {},
   "outputs": [],
   "source": [
    "total = 0\n",
    "for i in applestore[1:]:\n",
    "    # print(type(i[7]))\n",
    "    total += float(i[7])"
   ]
  },
  {
   "cell_type": "code",
   "execution_count": 8,
   "metadata": {},
   "outputs": [
    {
     "data": {
      "text/plain": [
       "25383.5"
      ]
     },
     "execution_count": 8,
     "metadata": {},
     "output_type": "execute_result"
    }
   ],
   "source": [
    "total"
   ]
  },
  {
   "cell_type": "code",
   "execution_count": 9,
   "metadata": {},
   "outputs": [
    {
     "data": {
      "text/plain": [
       "3.526955675976101"
      ]
     },
     "execution_count": 9,
     "metadata": {},
     "output_type": "execute_result"
    }
   ],
   "source": [
    "avg_usr_ratings = total/(len(applestore) - 1)\n",
    "avg_usr_ratings"
   ]
  },
  {
   "cell_type": "code",
   "execution_count": 12,
   "metadata": {},
   "outputs": [],
   "source": [
    "total = 0\n",
    "counter = 0\n",
    "for i in applestore[1:]:\n",
    "    price = i[4]\n",
    "    user_ratings = float(i[7])\n",
    "    if price == \"0.0\":\n",
    "        total+= user_ratings\n",
    "        counter += 1"
   ]
  },
  {
   "cell_type": "code",
   "execution_count": 14,
   "metadata": {},
   "outputs": [
    {
     "name": "stdout",
     "output_type": "stream",
     "text": [
      "13696.0\n",
      "4056\n"
     ]
    }
   ],
   "source": [
    "print(total)\n",
    "print(counter)"
   ]
  },
  {
   "cell_type": "code",
   "execution_count": 15,
   "metadata": {},
   "outputs": [
    {
     "data": {
      "text/plain": [
       "3.3767258382642997"
      ]
     },
     "execution_count": 15,
     "metadata": {},
     "output_type": "execute_result"
    }
   ],
   "source": [
    "free_app_avg_ratings = total/counter\n",
    "free_app_avg_ratings"
   ]
  },
  {
   "cell_type": "code",
   "execution_count": 17,
   "metadata": {},
   "outputs": [
    {
     "data": {
      "text/plain": [
       "3.5285777580859548"
      ]
     },
     "execution_count": 17,
     "metadata": {},
     "output_type": "execute_result"
    }
   ],
   "source": [
    "total = 0\n",
    "counter = 0\n",
    "for i in applestore[1:]:\n",
    "    price = i[4]\n",
    "    genre = i[11]\n",
    "    rating = float(i[7])\n",
    "    if price == \"0.0\" and genre == \"Games\":\n",
    "        total+=rating\n",
    "        counter +=1\n",
    "\n",
    "avg = total / counter\n",
    "avg"
   ]
  },
  {
   "cell_type": "code",
   "execution_count": 19,
   "metadata": {},
   "outputs": [
    {
     "data": {
      "text/plain": [
       "3.496875"
      ]
     },
     "execution_count": 19,
     "metadata": {},
     "output_type": "execute_result"
    }
   ],
   "source": [
    "total = 0\n",
    "counter = 0\n",
    "for i in applestore[1:]:\n",
    "    price = float(i[4])\n",
    "    rating = float(i[7])\n",
    "    genre = i[11]\n",
    "    if price == 0.0:\n",
    "        if genre == \"Games\" or genre == \"Social Networking\":\n",
    "            total += rating\n",
    "            counter += 1\n",
    "aver = total/ counter\n",
    "aver"
   ]
  },
  {
   "cell_type": "code",
   "execution_count": 20,
   "metadata": {},
   "outputs": [
    {
     "data": {
      "text/plain": [
       "3.496875"
      ]
     },
     "execution_count": 20,
     "metadata": {},
     "output_type": "execute_result"
    }
   ],
   "source": [
    "total = 0\n",
    "counter = 0\n",
    "for i in applestore[1:]:\n",
    "    price = float(i[4])\n",
    "    rating = float(i[7])\n",
    "    genre = i[11]\n",
    "    if price == 0.0 and (genre == \"Games\" or genre == \"Social Networking\"):\n",
    "        total += rating\n",
    "        counter += 1\n",
    "aver = total/ counter\n",
    "aver"
   ]
  },
  {
   "cell_type": "code",
   "execution_count": 21,
   "metadata": {},
   "outputs": [
    {
     "data": {
      "text/plain": [
       "['id',\n",
       " 'track_name',\n",
       " 'size_bytes',\n",
       " 'currency',\n",
       " 'price',\n",
       " 'rating_count_tot',\n",
       " 'rating_count_ver',\n",
       " 'user_rating',\n",
       " 'user_rating_ver',\n",
       " 'ver',\n",
       " 'cont_rating',\n",
       " 'prime_genre',\n",
       " 'sup_devices.num',\n",
       " 'ipadSc_urls.num',\n",
       " 'lang.num',\n",
       " 'vpp_lic']"
      ]
     },
     "execution_count": 21,
     "metadata": {},
     "output_type": "execute_result"
    }
   ],
   "source": [
    "applestore[0]"
   ]
  },
  {
   "cell_type": "code",
   "execution_count": 22,
   "metadata": {},
   "outputs": [],
   "source": [
    "applestore[0].append(\"Price label\")\n",
    "for i in applestore[1:]:\n",
    "    price = float(i[4])\n",
    "    if price == 0:\n",
    "        i.append(\"free\")\n",
    "    elif price > 0 and price <=20:\n",
    "        i.append(\"cheap\")\n",
    "    elif price >20 and price <=50:\n",
    "        i.append(\"expensive\")\n",
    "    elif price >50:\n",
    "        i.append(\"very expensive\")\n"
   ]
  },
  {
   "cell_type": "code",
   "execution_count": null,
   "metadata": {},
   "outputs": [],
   "source": [
    "applstore[0].append(\"price_label\")\n",
    "for i in applestore[1:]:\n",
    "    price = float(i[4])\n",
    "    if price == 0:\n",
    "        i.append(\"Free\")\n",
    "    elif price >0 and price <=20:\n",
    "        i.append(\"Cheap\")\n",
    "    elif price >20 and price <= 50:\n",
    "        i.append(\"Expensive\")\n",
    "    else:\n",
    "        i.append(\"Very Expensive\")\n",
    "\n"
   ]
  },
  {
   "cell_type": "code",
   "execution_count": 29,
   "metadata": {},
   "outputs": [
    {
     "name": "stdout",
     "output_type": "stream",
     "text": [
      "['920133658', 'Anatomy & Physiology: Body Structures and Function', '1758696448', 'USD', '34.99', '49', '14', '4.5', '4.0', '4.1.11', '12+', 'Medical', '37', '5', '5', '1', 'expensive']\n"
     ]
    }
   ],
   "source": [
    "print(applestore[5070])"
   ]
  },
  {
   "cell_type": "code",
   "execution_count": 30,
   "metadata": {},
   "outputs": [],
   "source": [
    "# {\"Games\":2000,\"Social Netwroking\": 357}"
   ]
  },
  {
   "cell_type": "code",
   "execution_count": 34,
   "metadata": {},
   "outputs": [],
   "source": [
    "dic= {}\n",
    "for i in applestore[1:]:\n",
    "    prime_genre=i[11]\n",
    "    if prime_genre in dic:\n",
    "        dic[prime_genre] +=1\n",
    "    else:\n",
    "        dic[prime_genre] = 1\n"
   ]
  },
  {
   "cell_type": "code",
   "execution_count": 35,
   "metadata": {},
   "outputs": [
    {
     "data": {
      "text/plain": [
       "{'Social Networking': 167,\n",
       " 'Photo & Video': 349,\n",
       " 'Games': 3862,\n",
       " 'Music': 138,\n",
       " 'Reference': 64,\n",
       " 'Health & Fitness': 180,\n",
       " 'Weather': 72,\n",
       " 'Utilities': 248,\n",
       " 'Travel': 81,\n",
       " 'Shopping': 122,\n",
       " 'News': 75,\n",
       " 'Navigation': 46,\n",
       " 'Lifestyle': 144,\n",
       " 'Entertainment': 535,\n",
       " 'Food & Drink': 63,\n",
       " 'Sports': 114,\n",
       " 'Book': 112,\n",
       " 'Finance': 104,\n",
       " 'Education': 453,\n",
       " 'Productivity': 178,\n",
       " 'Business': 57,\n",
       " 'Catalogs': 10,\n",
       " 'Medical': 23}"
      ]
     },
     "execution_count": 35,
     "metadata": {},
     "output_type": "execute_result"
    }
   ],
   "source": [
    "dic"
   ]
  },
  {
   "cell_type": "code",
   "execution_count": 38,
   "metadata": {},
   "outputs": [],
   "source": [
    "with open(\"apple.csv\", \"w\", encoding = \"utf-8\", newline=\"\") as f:\n",
    "    write = csv.writer(f, delimiter = \",\")\n",
    "    for i in applestore:\n",
    "        write.writerow(i)"
   ]
  },
  {
   "cell_type": "code",
   "execution_count": null,
   "metadata": {},
   "outputs": [],
   "source": []
  }
 ],
 "metadata": {
  "kernelspec": {
   "display_name": "Python 3",
   "language": "python",
   "name": "python3"
  },
  "language_info": {
   "codemirror_mode": {
    "name": "ipython",
    "version": 3
   },
   "file_extension": ".py",
   "mimetype": "text/x-python",
   "name": "python",
   "nbconvert_exporter": "python",
   "pygments_lexer": "ipython3",
   "version": "3.7.3"
  }
 },
 "nbformat": 4,
 "nbformat_minor": 2
}
