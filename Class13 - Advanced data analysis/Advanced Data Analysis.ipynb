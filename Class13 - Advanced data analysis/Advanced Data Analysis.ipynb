{
 "cells": [
  {
   "cell_type": "code",
   "execution_count": 1,
   "metadata": {},
   "outputs": [],
   "source": [
    "import csv"
   ]
  },
  {
   "cell_type": "code",
   "execution_count": 4,
   "metadata": {},
   "outputs": [],
   "source": [
    "# f = open(\"artworks_clean.csv\", encoding = \"utf-8\")\n",
    "# read = csv.reader(f)\n",
    "# artwork = list(read)"
   ]
  },
  {
   "cell_type": "code",
   "execution_count": 3,
   "metadata": {},
   "outputs": [],
   "source": [
    "artworks = list(csv.reader(open(\"artworks_clean.csv\", \n",
    "                           encoding = \"utf-8\")))"
   ]
  },
  {
   "cell_type": "code",
   "execution_count": 5,
   "metadata": {},
   "outputs": [
    {
     "data": {
      "text/plain": [
       "16692"
      ]
     },
     "execution_count": 5,
     "metadata": {},
     "output_type": "execute_result"
    }
   ],
   "source": [
    "len(artworks)"
   ]
  },
  {
   "cell_type": "code",
   "execution_count": 9,
   "metadata": {},
   "outputs": [
    {
     "name": "stdout",
     "output_type": "stream",
     "text": [
      "[['Title', 'Artist', 'Nationality', 'BeginDate', 'EndDate', 'Gender', 'Date', 'Department'], ['Dress MacLeod from Tartan Sets', 'Sarah Charlesworth', 'American', '1947', '2013', 'Female', '1986', 'Prints & Illustrated Books'], ['Duplicate of plate from folio 11 verso (supplementary suite, plate 4) from ARDICIA', 'Pablo Palazuelo', 'Spanish', '1916', '2007', 'Male', '1978', 'Prints & Illustrated Books']]\n"
     ]
    }
   ],
   "source": [
    "# display(artworks[:3])\n",
    "print(artworks[:3])"
   ]
  },
  {
   "cell_type": "code",
   "execution_count": 11,
   "metadata": {},
   "outputs": [],
   "source": [
    "header = artworks[0]\n",
    "artworks = artworks[1:]"
   ]
  },
  {
   "cell_type": "code",
   "execution_count": 15,
   "metadata": {},
   "outputs": [],
   "source": [
    "def clean_year(str_year):\n",
    "    if str_year == \"\":\n",
    "        return str_year\n",
    "    else:\n",
    "        return int(str_year)"
   ]
  },
  {
   "cell_type": "code",
   "execution_count": 16,
   "metadata": {},
   "outputs": [
    {
     "data": {
      "text/plain": [
       "1947"
      ]
     },
     "execution_count": 16,
     "metadata": {},
     "output_type": "execute_result"
    }
   ],
   "source": [
    "clean_year(\"1947\")"
   ]
  },
  {
   "cell_type": "code",
   "execution_count": 17,
   "metadata": {},
   "outputs": [
    {
     "data": {
      "text/plain": [
       "''"
      ]
     },
     "execution_count": 17,
     "metadata": {},
     "output_type": "execute_result"
    }
   ],
   "source": [
    "clean_year(\"\")"
   ]
  },
  {
   "cell_type": "code",
   "execution_count": 18,
   "metadata": {},
   "outputs": [],
   "source": [
    "for i in artworks:\n",
    "#     dob = i[3]\n",
    "#     doe = i[4]\n",
    "#     sub = i[-2]\n",
    "#     print(int(sub))\n",
    "#     i[3] = clean_year(dob)\n",
    "#     i[4] = clean_year(doe)\n",
    "#     i[6] = clean_year(sub) # int(sub)\n",
    "    i[3] = clean_year(i[3])\n",
    "    i[4] = clean_year(i[4])\n",
    "    i[6] = int(i[-2]) # clean_year(i[6])"
   ]
  },
  {
   "cell_type": "code",
   "execution_count": null,
   "metadata": {},
   "outputs": [],
   "source": [
    "# int(\"\")"
   ]
  },
  {
   "cell_type": "code",
   "execution_count": 22,
   "metadata": {},
   "outputs": [],
   "source": [
    "sub_ages = []\n",
    "\n",
    "for i in artworks:\n",
    "    dob = i[3]\n",
    "    sub = i[-2] # i[6]\n",
    "    if type(dob) == str: # if dob == \"\" \n",
    "        sub_ages.append(0)\n",
    "    else:\n",
    "        diff = sub - dob\n",
    "        sub_ages.append(diff)"
   ]
  },
  {
   "cell_type": "code",
   "execution_count": 21,
   "metadata": {},
   "outputs": [],
   "source": [
    "# 1925 - \"\""
   ]
  },
  {
   "cell_type": "code",
   "execution_count": 23,
   "metadata": {},
   "outputs": [
    {
     "data": {
      "text/plain": [
       "16691"
      ]
     },
     "execution_count": 23,
     "metadata": {},
     "output_type": "execute_result"
    }
   ],
   "source": [
    "len(sub_ages)"
   ]
  },
  {
   "cell_type": "code",
   "execution_count": null,
   "metadata": {},
   "outputs": [],
   "source": [
    "# 1947 1948\n",
    "# 1947 1940"
   ]
  },
  {
   "cell_type": "code",
   "execution_count": 24,
   "metadata": {},
   "outputs": [],
   "source": [
    "# [0,-7,25,33,92,-2]\n",
    "\n",
    "final_ages = []\n",
    "\n",
    "for i in sub_ages:\n",
    "    if i > 20:\n",
    "        final_ages.append(i)\n",
    "    else:  # elif i <= 20\n",
    "        final_ages.append(\"unknown\")"
   ]
  },
  {
   "cell_type": "code",
   "execution_count": null,
   "metadata": {},
   "outputs": [],
   "source": [
    "# 20-29  \"20s\"\n",
    "# 30-39   \"30s\"\n",
    "# 70-79   \"70s\""
   ]
  },
  {
   "cell_type": "code",
   "execution_count": 29,
   "metadata": {},
   "outputs": [
    {
     "data": {
      "text/plain": [
       "'70s'"
      ]
     },
     "execution_count": 29,
     "metadata": {},
     "output_type": "execute_result"
    }
   ],
   "source": [
    "i = 73\n",
    "str(i)[:-1] + \"0s\""
   ]
  },
  {
   "cell_type": "code",
   "execution_count": 28,
   "metadata": {},
   "outputs": [],
   "source": [
    "decades = []\n",
    "for i in final_ages:\n",
    "    if type(i) == str:\n",
    "        decades.append(i)\n",
    "    else:\n",
    "        decades.append(str(i)[:-1]+\"0s\")\n"
   ]
  },
  {
   "cell_type": "code",
   "execution_count": 30,
   "metadata": {},
   "outputs": [],
   "source": [
    "decades = []\n",
    "\n",
    "for i in final_ages:\n",
    "    if type(i) == int:\n",
    "        dec = str(i)[:-1] + \"0s\"\n",
    "        decades.append(dec)\n",
    "    else:\n",
    "        decades.append(i)"
   ]
  },
  {
   "cell_type": "code",
   "execution_count": 33,
   "metadata": {},
   "outputs": [
    {
     "data": {
      "text/plain": [
       "16691"
      ]
     },
     "execution_count": 33,
     "metadata": {},
     "output_type": "execute_result"
    }
   ],
   "source": [
    "len(decades)"
   ]
  },
  {
   "cell_type": "code",
   "execution_count": 34,
   "metadata": {},
   "outputs": [],
   "source": [
    "# decades_freq = {\"20s\":349,\"30s\":1953,\"unknown\":489}\n",
    "\n",
    "decades_freq = {}\n",
    "\n",
    "for i in decades:\n",
    "    if i in decades_freq:\n",
    "        decades_freq[i] += 1\n",
    "    else:\n",
    "        decades_freq[i] = 1\n",
    "\n",
    "    "
   ]
  },
  {
   "cell_type": "code",
   "execution_count": 35,
   "metadata": {},
   "outputs": [],
   "source": [
    "decades_freq = {}\n",
    "\n",
    "for i in decades:\n",
    "    if i not in decades_freq:\n",
    "        decades_freq[i] = 1\n",
    "    elif i in decades_freq:\n",
    "        decades_freq[i] += 1"
   ]
  },
  {
   "cell_type": "code",
   "execution_count": 36,
   "metadata": {},
   "outputs": [],
   "source": [
    "decades_freq = {}\n",
    "\n",
    "for i in decades:\n",
    "    if i not in decades_freq:\n",
    "        decades_freq[i] = 1\n",
    "    else:\n",
    "        decades_freq[i] += 1"
   ]
  },
  {
   "cell_type": "code",
   "execution_count": 37,
   "metadata": {},
   "outputs": [
    {
     "data": {
      "text/plain": [
       "{'30s': 4714,\n",
       " '60s': 1353,\n",
       " '70s': 558,\n",
       " '40s': 4073,\n",
       " '50s': 2426,\n",
       " '20s': 1853,\n",
       " 'unknown': 1093,\n",
       " '90s': 252,\n",
       " '80s': 363,\n",
       " '100s': 3,\n",
       " '110s': 3}"
      ]
     },
     "execution_count": 37,
     "metadata": {},
     "output_type": "execute_result"
    }
   ],
   "source": [
    "decades_freq"
   ]
  },
  {
   "cell_type": "code",
   "execution_count": 45,
   "metadata": {},
   "outputs": [
    {
     "data": {
      "text/plain": [
       "'There are 4,714 artworks submitted by the age of 30s'"
      ]
     },
     "execution_count": 45,
     "metadata": {},
     "output_type": "execute_result"
    }
   ],
   "source": [
    "\"There are 4,714 artworks submitted by the age of 30s\""
   ]
  },
  {
   "cell_type": "code",
   "execution_count": 43,
   "metadata": {},
   "outputs": [
    {
     "name": "stdout",
     "output_type": "stream",
     "text": [
      "There are 4714 artworks submitted by the age of 30s\n",
      "There are 1353 artworks submitted by the age of 60s\n",
      "There are 558 artworks submitted by the age of 70s\n",
      "There are 4073 artworks submitted by the age of 40s\n",
      "There are 2426 artworks submitted by the age of 50s\n",
      "There are 1853 artworks submitted by the age of 20s\n",
      "There are 1093 artworks submitted by the age of unknown\n",
      "There are 252 artworks submitted by the age of 90s\n",
      "There are 363 artworks submitted by the age of 80s\n",
      "There are 3 artworks submitted by the age of 100s\n",
      "There are 3 artworks submitted by the age of 110s\n"
     ]
    }
   ],
   "source": [
    "for k,v in decades_freq.items():\n",
    "    print(\"There are \" + str(v) + \" artworks submitted by the age of \" + k )"
   ]
  },
  {
   "cell_type": "code",
   "execution_count": 54,
   "metadata": {},
   "outputs": [
    {
     "name": "stdout",
     "output_type": "stream",
     "text": [
      "There are 4,714 artworks submitted by the age of 30s\n",
      "There are 1,353 artworks submitted by the age of 60s\n",
      "There are 558 artworks submitted by the age of 70s\n",
      "There are 4,073 artworks submitted by the age of 40s\n",
      "There are 2,426 artworks submitted by the age of 50s\n",
      "There are 1,853 artworks submitted by the age of 20s\n",
      "There are 1,093 artworks submitted by the age of unknown\n",
      "There are 252 artworks submitted by the age of 90s\n",
      "There are 363 artworks submitted by the age of 80s\n",
      "There are 3 artworks submitted by the age of 100s\n",
      "There are 3 artworks submitted by the age of 110s\n"
     ]
    }
   ],
   "source": [
    "for k,v in decades_freq.items():\n",
    "    print(\"There are {:,} artworks submitted by the age of {}\". format(v,k) )"
   ]
  },
  {
   "cell_type": "code",
   "execution_count": 57,
   "metadata": {},
   "outputs": [
    {
     "name": "stdout",
     "output_type": "stream",
     "text": [
      "There are 4,714 artworks submitted by the age of 30s\n",
      "There are 1,353 artworks submitted by the age of 60s\n",
      "There are 558 artworks submitted by the age of 70s\n",
      "There are 4,073 artworks submitted by the age of 40s\n",
      "There are 2,426 artworks submitted by the age of 50s\n",
      "There are 1,853 artworks submitted by the age of 20s\n",
      "There are 1,093 artworks submitted by the age of unknown\n",
      "There are 252 artworks submitted by the age of 90s\n",
      "There are 363 artworks submitted by the age of 80s\n",
      "There are 3 artworks submitted by the age of 100s\n",
      "There are 3 artworks submitted by the age of 110s\n"
     ]
    }
   ],
   "source": [
    "for k,v in decades_freq.items():\n",
    "    print(f\"There are {v:,} artworks submitted by the age of {k}\" )"
   ]
  },
  {
   "cell_type": "code",
   "execution_count": 46,
   "metadata": {},
   "outputs": [
    {
     "data": {
      "text/plain": [
       "'there are 98,647,231,083'"
      ]
     },
     "execution_count": 46,
     "metadata": {},
     "output_type": "execute_result"
    }
   ],
   "source": [
    "a = 98647231083\n",
    "\"there are {:,}\".format(a)"
   ]
  },
  {
   "cell_type": "code",
   "execution_count": 52,
   "metadata": {},
   "outputs": [
    {
     "data": {
      "text/plain": [
       "'there are 98,647.24'"
      ]
     },
     "execution_count": 52,
     "metadata": {},
     "output_type": "execute_result"
    }
   ],
   "source": [
    "a = 98647.2389\n",
    "\"there are {value:,.2f}\".format(value = a)"
   ]
  },
  {
   "cell_type": "code",
   "execution_count": null,
   "metadata": {},
   "outputs": [],
   "source": []
  }
 ],
 "metadata": {
  "kernelspec": {
   "display_name": "Python 3",
   "language": "python",
   "name": "python3"
  },
  "language_info": {
   "codemirror_mode": {
    "name": "ipython",
    "version": 3
   },
   "file_extension": ".py",
   "mimetype": "text/x-python",
   "name": "python",
   "nbconvert_exporter": "python",
   "pygments_lexer": "ipython3",
   "version": "3.7.3"
  }
 },
 "nbformat": 4,
 "nbformat_minor": 2
}
