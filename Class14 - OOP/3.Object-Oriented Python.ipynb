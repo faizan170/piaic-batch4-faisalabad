{
 "cells": [
  {
   "cell_type": "markdown",
   "metadata": {},
   "source": [
    "We've learned a system of programming known as **Procedural Programming**. In its simplest definition, procedural programming involves writing code in a number of sequential steps — and sometimes we combine these steps into commands called **functions**"
   ]
  },
  {
   "cell_type": "markdown",
   "metadata": {},
   "source": [
    "# Object-Oriented Programming (OOP)"
   ]
  },
  {
   "cell_type": "markdown",
   "metadata": {},
   "source": [
    "Rather than code being designed around sequential steps, it is instead defined around objects"
   ]
  },
  {
   "cell_type": "markdown",
   "metadata": {},
   "source": [
    "When working with data, it's much more common to use a style that is closer to procedural programming style than OOP, but it's very important to understand how OOP works, because Python is an object-oriented language."
   ]
  },
  {
   "cell_type": "markdown",
   "metadata": {},
   "source": [
    "In OOP, objects have types, but instead of \"type\" we use the word class. So far, we've been using the word \"type\" to describe different variables:\n",
    "\n",
    "* String type\n",
    "* List type\n",
    "* Dictionary type\n",
    "\n",
    "Technically, the correct name for each of these is:\n",
    "\n",
    "* String class\n",
    "* List class\n",
    "* Dictionary class"
   ]
  },
  {
   "cell_type": "markdown",
   "metadata": {},
   "source": [
    "We've been using classes for some time already:\n",
    "\n",
    "* Python lists are objects of the list class.\n",
    "* Python strings are objects of the str class.\n",
    "* Python dictionaries are objects of the dict class.\n"
   ]
  },
  {
   "cell_type": "markdown",
   "metadata": {},
   "source": [
    "We're going to learn how classes work by creating one of our own. We're going to create a simple class called NewList and recreate some of the basic functionality of the Python list class."
   ]
  },
  {
   "cell_type": "markdown",
   "metadata": {},
   "source": [
    "It's less common for data scientists and data analysts to define new types of objects, but understanding how objects work behind the scenes will be extremely valuable to us as we continue to extend our Python knowledge and work with objects more."
   ]
  },
  {
   "cell_type": "markdown",
   "metadata": {},
   "source": [
    "# Relationship between objects and classes.\n",
    "\n",
    "* An object is an entity that stores data.\n",
    "* An object's class defines specific properties objects of that class will have."
   ]
  },
  {
   "cell_type": "markdown",
   "metadata": {},
   "source": [
    "We define a class in a very similar way to how we define a function:"
   ]
  },
  {
   "cell_type": "code",
   "execution_count": 1,
   "metadata": {},
   "outputs": [],
   "source": [
    "class NewList(): # pascal case. Usually, we'd define a class without anything in the parentheses\n",
    "    pass # pass is a placehoder to avoid error"
   ]
  },
  {
   "cell_type": "markdown",
   "metadata": {},
   "source": [
    "In OOP, we use instance to describe each different object.\n",
    "\n",
    "We might create two Python strings, and they can hold different values, but they work the same way"
   ]
  },
  {
   "cell_type": "markdown",
   "metadata": {},
   "source": [
    "Once we have defined our class, we can create an object of that class, which is known as **instantiation**. If we create an object of a particular class, the technical phrase for what we did is to \"Instantiate an object of that class\""
   ]
  },
  {
   "cell_type": "code",
   "execution_count": 2,
   "metadata": {},
   "outputs": [],
   "source": [
    "new_list_instance = NewList()"
   ]
  },
  {
   "cell_type": "markdown",
   "metadata": {},
   "source": [
    "Above single line of our code actually did two things:\n",
    "\n",
    "* Instantiated an object of the class NewList.\n",
    "* Assigned that instance to the variable named new_list_instance"
   ]
  },
  {
   "cell_type": "code",
   "execution_count": 3,
   "metadata": {},
   "outputs": [
    {
     "name": "stdout",
     "output_type": "stream",
     "text": [
      "<__main__.NewList object at 0x00000207ECAA86A0>\n"
     ]
    }
   ],
   "source": [
    "print(new_list_instance)"
   ]
  },
  {
   "cell_type": "markdown",
   "metadata": {},
   "source": [
    "In order to make our class do something, we need to define some methods. Methods allow objects to perform actions."
   ]
  },
  {
   "cell_type": "markdown",
   "metadata": {},
   "source": [
    "We can think of methods like special functions that belong to a particular class. Each class has its own set of methods.\n",
    "\n",
    "While a function can be used with any object"
   ]
  },
  {
   "cell_type": "markdown",
   "metadata": {},
   "source": [
    "The syntax for creating a method is almost identical to when we create a function, except it is indented within our class definition."
   ]
  },
  {
   "cell_type": "code",
   "execution_count": 18,
   "metadata": {},
   "outputs": [],
   "source": [
    "class NewList():\n",
    "    def first_method(self):\n",
    "        return \"This is my first method\"\n",
    "\n",
    "newlist = NewList()\n"
   ]
  },
  {
   "cell_type": "code",
   "execution_count": 19,
   "metadata": {},
   "outputs": [
    {
     "data": {
      "text/plain": [
       "'This is my first method'"
      ]
     },
     "execution_count": 19,
     "metadata": {},
     "output_type": "execute_result"
    }
   ],
   "source": [
    "NewList.first_method(newlist)"
   ]
  },
  {
   "cell_type": "code",
   "execution_count": 2,
   "metadata": {},
   "outputs": [
    {
     "data": {
      "text/plain": [
       "'This is my first method'"
      ]
     },
     "execution_count": 2,
     "metadata": {},
     "output_type": "execute_result"
    }
   ],
   "source": [
    "newlist.first_method()"
   ]
  },
  {
   "cell_type": "code",
   "execution_count": 4,
   "metadata": {
    "scrolled": true
   },
   "outputs": [],
   "source": [
    "# dir(newlist)"
   ]
  },
  {
   "cell_type": "code",
   "execution_count": 8,
   "metadata": {},
   "outputs": [
    {
     "name": "stdout",
     "output_type": "stream",
     "text": [
      "This is my first method\n"
     ]
    }
   ],
   "source": [
    "print(NewList.first_method(newlist))"
   ]
  },
  {
   "cell_type": "code",
   "execution_count": 25,
   "metadata": {},
   "outputs": [
    {
     "data": {
      "text/plain": [
       "[1, 2, 3]"
      ]
     },
     "execution_count": 25,
     "metadata": {},
     "output_type": "execute_result"
    }
   ],
   "source": [
    "class NewList():\n",
    "    def return_list(self,input_list):\n",
    "        # if type(input_list) == list:\n",
    "        return input_list\n",
    "\n",
    "newlist = NewList()\n",
    "newlist.return_list([1,2,3])\n"
   ]
  },
  {
   "cell_type": "markdown",
   "metadata": {},
   "source": [
    "The power of objects is in their ability to store data, and data is stored inside objects using attributes."
   ]
  },
  {
   "cell_type": "markdown",
   "metadata": {},
   "source": [
    "You can think of attributes like special variables that belong to a particular class. Attributes let us store specific values about each instance of our class"
   ]
  },
  {
   "cell_type": "markdown",
   "metadata": {},
   "source": [
    "When we instantiate an object, most of the time we specify the data that we want to store inside that object."
   ]
  },
  {
   "cell_type": "markdown",
   "metadata": {},
   "source": [
    "We define what is done with any arguments provided at instantiation using the init method."
   ]
  },
  {
   "cell_type": "markdown",
   "metadata": {},
   "source": [
    "The init method — also called a constructor — is a special method that runs when an instance is created so we can perform any tasks to set up the instance."
   ]
  },
  {
   "cell_type": "markdown",
   "metadata": {},
   "source": [
    "Like methods, attributes are accessed using dot notation, but attributes don't have parentheses like methods do."
   ]
  },
  {
   "cell_type": "code",
   "execution_count": 28,
   "metadata": {},
   "outputs": [
    {
     "name": "stdout",
     "output_type": "stream",
     "text": [
      "[1, 2, 3, 4, 5]\n"
     ]
    }
   ],
   "source": [
    "class NewList():\n",
    "    def __init__(self,initial_state):\n",
    "        self.data = initial_state\n",
    "        \n",
    "my_list = NewList([1, 2, 3, 4, 5])\n",
    "print(my_list.data)"
   ]
  },
  {
   "cell_type": "code",
   "execution_count": 11,
   "metadata": {},
   "outputs": [
    {
     "name": "stdout",
     "output_type": "stream",
     "text": [
      "[1, 2, 3, 4]\n",
      "[1, 2, 3, 4, 6]\n"
     ]
    }
   ],
   "source": [
    "class NewList():\n",
    "    \"\"\"\n",
    "    A Python list with some extras!\n",
    "    \"\"\"\n",
    "    def __init__(self, initial_state):\n",
    "        self.data = initial_state\n",
    "        \n",
    "    def append(self, new_item ):\n",
    "        self.data += [new_item]\n",
    "        return self.data\n",
    "        \n",
    "my_list = NewList([1,2,3,4])\n",
    "print(my_list.data)\n",
    "print(my_list.append(6))"
   ]
  },
  {
   "cell_type": "code",
   "execution_count": 34,
   "metadata": {},
   "outputs": [
    {
     "name": "stdout",
     "output_type": "stream",
     "text": [
      "[1, 1, 2, 3, 5]\n",
      "5\n",
      "[1, 1, 2, 3, 5, 8]\n",
      "6\n"
     ]
    }
   ],
   "source": [
    "class NewList():\n",
    "    def __init__(self, initial_state):\n",
    "        self.data = initial_state\n",
    "        self.calc_length()\n",
    "        \n",
    "    def calc_length(self):\n",
    "        \"\"\"\n",
    "        A helper function to calculate the .length\n",
    "        attribute.\n",
    "        \"\"\" \n",
    "        length = 0\n",
    "        for i in self.data:\n",
    "            length += 1\n",
    "        \n",
    "        return length # or self.lenght = length\n",
    "        \n",
    "    def append(self, new_item):\n",
    "        self.data += [new_item]\n",
    "        self.calc_length()\n",
    "        \n",
    "\n",
    "fibonacci = NewList([1, 1, 2, 3, 5])\n",
    "print(fibonacci.data)\n",
    "print(fibonacci.calc_length()) # or fibonacci.lenght\n",
    "fibonacci.append(8)\n",
    "print(fibonacci.data)\n",
    "print(fibonacci.calc_length()) # or fibonacci.lenght"
   ]
  },
  {
   "cell_type": "code",
   "execution_count": 29,
   "metadata": {},
   "outputs": [
    {
     "data": {
      "text/plain": [
       "[1, 2, 3, 4, 6]"
      ]
     },
     "execution_count": 29,
     "metadata": {},
     "output_type": "execute_result"
    }
   ],
   "source": [
    "[1,2,3,4] + [6]"
   ]
  },
  {
   "cell_type": "code",
   "execution_count": 30,
   "metadata": {},
   "outputs": [
    {
     "data": {
      "text/plain": [
       "'Waqas\\nali'"
      ]
     },
     "execution_count": 30,
     "metadata": {},
     "output_type": "execute_result"
    }
   ],
   "source": [
    "\"\"\"Waqas\n",
    "ali\"\"\""
   ]
  },
  {
   "cell_type": "code",
   "execution_count": 31,
   "metadata": {},
   "outputs": [
    {
     "data": {
      "text/plain": [
       "'Waqas\\nAli\\nMuhammad\\nNoman'"
      ]
     },
     "execution_count": 31,
     "metadata": {},
     "output_type": "execute_result"
    }
   ],
   "source": [
    "\"\"\"Waqas\n",
    "Ali\n",
    "Muhammad\n",
    "Noman\"\"\""
   ]
  },
  {
   "cell_type": "code",
   "execution_count": null,
   "metadata": {},
   "outputs": [],
   "source": []
  }
 ],
 "metadata": {
  "kernelspec": {
   "display_name": "Python 3",
   "language": "python",
   "name": "python3"
  },
  "language_info": {
   "codemirror_mode": {
    "name": "ipython",
    "version": 3
   },
   "file_extension": ".py",
   "mimetype": "text/x-python",
   "name": "python",
   "nbconvert_exporter": "python",
   "pygments_lexer": "ipython3",
   "version": "3.7.3"
  }
 },
 "nbformat": 4,
 "nbformat_minor": 2
}
