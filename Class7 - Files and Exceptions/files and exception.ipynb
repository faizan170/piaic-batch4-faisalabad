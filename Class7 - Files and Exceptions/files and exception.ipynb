{
 "cells": [
  {
   "cell_type": "code",
   "execution_count": 4,
   "metadata": {},
   "outputs": [],
   "source": [
    "f = open(\"xyz.txt\",\"w\")\n",
    "f.write(\"Hello World\")\n",
    "f.close()"
   ]
  },
  {
   "cell_type": "code",
   "execution_count": 5,
   "metadata": {},
   "outputs": [],
   "source": [
    "with open(\"abc.txt\", \"w\") as f:\n",
    "    f.write(\"Our last Class\")\n",
    "    "
   ]
  },
  {
   "cell_type": "code",
   "execution_count": 6,
   "metadata": {},
   "outputs": [
    {
     "name": "stdout",
     "output_type": "stream",
     "text": [
      "Hello World\n"
     ]
    }
   ],
   "source": [
    "with open(\"xyz.txt\") as data:\n",
    "    print(data.read())"
   ]
  },
  {
   "cell_type": "markdown",
   "metadata": {},
   "source": [
    "# CSV"
   ]
  },
  {
   "cell_type": "code",
   "execution_count": 7,
   "metadata": {},
   "outputs": [],
   "source": [
    "import csv"
   ]
  },
  {
   "cell_type": "code",
   "execution_count": 83,
   "metadata": {},
   "outputs": [
    {
     "name": "stdout",
     "output_type": "stream",
     "text": [
      "['Title', 'Artist', 'Nationality', 'BeginDate', 'EndDate', 'Gender', 'Date', 'Department']\n",
      "['Dress MacLeod from Tartan Sets', 'Sarah Charlesworth', '(American)', '-1947', '-2013', '(Female)', '1986', 'Prints & Illustrated Books']\n",
      "['Duplicate of plate from folio 11 verso (supplementary suite, plate 4) from ARDICIA', 'Pablo Palazuelo', '(Spanish)', '-1916', '-2007', '(Male)', '1978', 'Prints & Illustrated Books']\n",
      "['Tailpiece (page 55) from SAGESSE', 'Maurice Denis', '(French)', '-1870', '-1943', '(Male)', '1889-1911', 'Prints & Illustrated Books']\n"
     ]
    }
   ],
   "source": [
    "with open(\"artworks.csv\", encoding = \"utf-8\") as f:\n",
    "    read = csv.reader(f)\n",
    "    for i in read:\n",
    "        print(i)"
   ]
  },
  {
   "cell_type": "code",
   "execution_count": 25,
   "metadata": {},
   "outputs": [
    {
     "name": "stdout",
     "output_type": "stream",
     "text": [
      "['Title', 'Artist', 'Nationality', 'BeginDate', 'EndDate', 'Gender', 'Date', 'Department']\n",
      "['Dress MacLeod from Tartan Sets', 'Sarah Charlesworth', '(American)', '-1947', '-2013', '(Female)', '1986', 'Prints & Illustrated Books']\n",
      "['Duplicate of plate from folio 11 verso (supplementary suite, plate 4) from ARDICIA', 'Pablo Palazuelo', '(Spanish)', '-1916', '-2007', '(Male)', '1978', 'Prints & Illustrated Books']\n",
      "['Tailpiece (page 55) from SAGESSE', 'Maurice Denis', '(French)', '-1870', '-1943', '(Male)', '1889-1911', 'Prints & Illustrated Books']\n"
     ]
    }
   ],
   "source": [
    "with open(\"artworks.csv\", encoding = \"utf-8\") as f:\n",
    "    read = csv.reader(f)\n",
    "    data = list(read)\n",
    "    # print(data)\n",
    "#     for i in data:\n",
    "#         print(i)"
   ]
  },
  {
   "cell_type": "code",
   "execution_count": 26,
   "metadata": {},
   "outputs": [],
   "source": [
    "with open(\"artworks.csv\", encoding = \"utf-8\") as f:\n",
    "    read = csv.reader(f)\n",
    "    data = []\n",
    "    # print(data)\n",
    "    for i in read:\n",
    "        data.append(i)"
   ]
  },
  {
   "cell_type": "code",
   "execution_count": 28,
   "metadata": {},
   "outputs": [
    {
     "name": "stdout",
     "output_type": "stream",
     "text": [
      "[['Title', 'Artist', 'Nationality', 'BeginDate', 'EndDate', 'Gender', 'Date', 'Department'], ['Dress MacLeod from Tartan Sets', 'Sarah Charlesworth', '(American)', '-1947', '-2013', '(Female)', '1986', 'Prints & Illustrated Books'], ['Duplicate of plate from folio 11 verso (supplementary suite, plate 4) from ARDICIA', 'Pablo Palazuelo', '(Spanish)', '-1916', '-2007', '(Male)', '1978', 'Prints & Illustrated Books'], ['Tailpiece (page 55) from SAGESSE', 'Maurice Denis', '(French)', '-1870', '-1943', '(Male)', '1889-1911', 'Prints & Illustrated Books']]\n"
     ]
    }
   ],
   "source": [
    "print(data)"
   ]
  },
  {
   "cell_type": "code",
   "execution_count": 31,
   "metadata": {},
   "outputs": [],
   "source": [
    "with open(\"artworks.csv\", encoding = \"utf-8\") as f:\n",
    "    read = csv.reader(f)\n",
    "    dt = []\n",
    "    # print(data)\n",
    "    for i in read:\n",
    "        # data = data + i\n",
    "        dt += i"
   ]
  },
  {
   "cell_type": "code",
   "execution_count": 34,
   "metadata": {},
   "outputs": [
    {
     "data": {
      "text/plain": [
       "['Title',\n",
       " 'Artist',\n",
       " 'Nationality',\n",
       " 'BeginDate',\n",
       " 'EndDate',\n",
       " 'Gender',\n",
       " 'Date',\n",
       " 'Department',\n",
       " 'Dress MacLeod from Tartan Sets',\n",
       " 'Sarah Charlesworth',\n",
       " '(American)',\n",
       " '-1947',\n",
       " '-2013',\n",
       " '(Female)',\n",
       " '1986',\n",
       " 'Prints & Illustrated Books',\n",
       " 'Duplicate of plate from folio 11 verso (supplementary suite, plate 4) from ARDICIA',\n",
       " 'Pablo Palazuelo',\n",
       " '(Spanish)',\n",
       " '-1916',\n",
       " '-2007',\n",
       " '(Male)',\n",
       " '1978',\n",
       " 'Prints & Illustrated Books',\n",
       " 'Tailpiece (page 55) from SAGESSE',\n",
       " 'Maurice Denis',\n",
       " '(French)',\n",
       " '-1870',\n",
       " '-1943',\n",
       " '(Male)',\n",
       " '1889-1911',\n",
       " 'Prints & Illustrated Books']"
      ]
     },
     "execution_count": 34,
     "metadata": {},
     "output_type": "execute_result"
    }
   ],
   "source": [
    "dt"
   ]
  },
  {
   "cell_type": "code",
   "execution_count": 38,
   "metadata": {},
   "outputs": [],
   "source": [
    "with open(\"ai.csv\",\"w\", newline =\"\") as f:\n",
    "    write = csv.writer(f, delimiter= \",\")\n",
    "    write.writerow([\"Year\",\"Event\",\"Winner\"])\n",
    "    write.writerow([1995,\"Best-Kept Lawn\",\"None\"])"
   ]
  },
  {
   "cell_type": "code",
   "execution_count": 39,
   "metadata": {},
   "outputs": [
    {
     "name": "stdout",
     "output_type": "stream",
     "text": [
      "['Year', 'Event', 'Winner']\n",
      "['1995', 'Best-Kept Lawn', 'None']\n"
     ]
    }
   ],
   "source": [
    "with open(\"ai.csv\") as f:\n",
    "    read = csv.reader(f)\n",
    "    for i in read:\n",
    "        print(i)"
   ]
  },
  {
   "cell_type": "code",
   "execution_count": 40,
   "metadata": {},
   "outputs": [],
   "source": [
    "with open(\"ai.csv\",\"a\", newline =\"\") as f:\n",
    "    write = csv.writer(f, delimiter= \",\")\n",
    "    write.writerow([1999,\"Gobstones\",\"Welch Nationional\"])\n",
    "    write.writerow([2006,\"World Cup\",\"Burkina Faso\"])"
   ]
  },
  {
   "cell_type": "code",
   "execution_count": 42,
   "metadata": {},
   "outputs": [],
   "source": [
    "with open(\"ai.csv\") as f:\n",
    "    read = csv.reader(f)\n",
    "    data = list(read)\n",
    "    "
   ]
  },
  {
   "cell_type": "code",
   "execution_count": 44,
   "metadata": {},
   "outputs": [
    {
     "name": "stdout",
     "output_type": "stream",
     "text": [
      "Event\n",
      "Best-Kept Lawn\n",
      "Gobstones\n",
      "World Cup\n"
     ]
    }
   ],
   "source": [
    "for i in data:\n",
    "    print(i[1])"
   ]
  },
  {
   "cell_type": "markdown",
   "metadata": {},
   "source": [
    "# JSON "
   ]
  },
  {
   "cell_type": "code",
   "execution_count": 45,
   "metadata": {},
   "outputs": [],
   "source": [
    "import json"
   ]
  },
  {
   "cell_type": "code",
   "execution_count": 46,
   "metadata": {},
   "outputs": [],
   "source": [
    "alphabet_letters = [\"a\", \"b\", \"c\"]\n",
    "\n",
    "with open(\"list.json\", \"w\") as f:\n",
    "    json.dump(alphabet_letters,f)"
   ]
  },
  {
   "cell_type": "code",
   "execution_count": 47,
   "metadata": {},
   "outputs": [
    {
     "name": "stdout",
     "output_type": "stream",
     "text": [
      "['a', 'b', 'c']\n"
     ]
    }
   ],
   "source": [
    "with open(\"list.json\") as f:\n",
    "    print(json.load(f))"
   ]
  },
  {
   "cell_type": "code",
   "execution_count": 48,
   "metadata": {},
   "outputs": [],
   "source": [
    "customer_29876 = {\n",
    "\"first name\": \"David\",\n",
    "\"last name\": \"Elliott\", \n",
    "\"address\": \"4803 Wellesley St.\",\n",
    "}"
   ]
  },
  {
   "cell_type": "code",
   "execution_count": 49,
   "metadata": {},
   "outputs": [],
   "source": [
    "with open(\"dict.json\", \"w\") as f:\n",
    "    json.dump(customer_29876, f)"
   ]
  },
  {
   "cell_type": "code",
   "execution_count": 50,
   "metadata": {},
   "outputs": [],
   "source": [
    "with open(\"dict.json\") as f:\n",
    "    dictionary = json.load(f)"
   ]
  },
  {
   "cell_type": "code",
   "execution_count": 51,
   "metadata": {},
   "outputs": [
    {
     "data": {
      "text/plain": [
       "{'first name': 'David',\n",
       " 'last name': 'Elliott',\n",
       " 'address': '4803 Wellesley St.'}"
      ]
     },
     "execution_count": 51,
     "metadata": {},
     "output_type": "execute_result"
    }
   ],
   "source": [
    "dictionary"
   ]
  },
  {
   "cell_type": "code",
   "execution_count": 52,
   "metadata": {},
   "outputs": [],
   "source": [
    "# Try and Except"
   ]
  },
  {
   "cell_type": "code",
   "execution_count": 78,
   "metadata": {},
   "outputs": [],
   "source": [
    "lst = [\"a\", \"b\",\"c\"]\n",
    "if a in lst:\n",
    "    print(\"OK\")"
   ]
  },
  {
   "cell_type": "code",
   "execution_count": 55,
   "metadata": {},
   "outputs": [
    {
     "ename": "ZeroDivisionError",
     "evalue": "division by zero",
     "output_type": "error",
     "traceback": [
      "\u001b[1;31m---------------------------------------------------------------------------\u001b[0m",
      "\u001b[1;31mZeroDivisionError\u001b[0m                         Traceback (most recent call last)",
      "\u001b[1;32m<ipython-input-55-fad870a50e27>\u001b[0m in \u001b[0;36m<module>\u001b[1;34m\u001b[0m\n\u001b[1;32m----> 1\u001b[1;33m \u001b[0mprint\u001b[0m\u001b[1;33m(\u001b[0m\u001b[1;36m5\u001b[0m\u001b[1;33m/\u001b[0m\u001b[1;36m0\u001b[0m\u001b[1;33m)\u001b[0m\u001b[1;33m\u001b[0m\u001b[1;33m\u001b[0m\u001b[0m\n\u001b[0m",
      "\u001b[1;31mZeroDivisionError\u001b[0m: division by zero"
     ]
    }
   ],
   "source": [
    "print(5/0)"
   ]
  },
  {
   "cell_type": "code",
   "execution_count": 56,
   "metadata": {},
   "outputs": [
    {
     "ename": "FileNotFoundError",
     "evalue": "[Errno 2] No such file or directory: 'aic.csv'",
     "output_type": "error",
     "traceback": [
      "\u001b[1;31m---------------------------------------------------------------------------\u001b[0m",
      "\u001b[1;31mFileNotFoundError\u001b[0m                         Traceback (most recent call last)",
      "\u001b[1;32m<ipython-input-56-bdb32528516f>\u001b[0m in \u001b[0;36m<module>\u001b[1;34m\u001b[0m\n\u001b[1;32m----> 1\u001b[1;33m \u001b[1;32mwith\u001b[0m \u001b[0mopen\u001b[0m\u001b[1;33m(\u001b[0m\u001b[1;34m\"aic.csv\"\u001b[0m\u001b[1;33m)\u001b[0m \u001b[1;32mas\u001b[0m \u001b[0mf\u001b[0m\u001b[1;33m:\u001b[0m\u001b[1;33m\u001b[0m\u001b[1;33m\u001b[0m\u001b[0m\n\u001b[0m\u001b[0;32m      2\u001b[0m     \u001b[0mread\u001b[0m \u001b[1;33m=\u001b[0m \u001b[0mcsv\u001b[0m\u001b[1;33m.\u001b[0m\u001b[0mreader\u001b[0m\u001b[1;33m(\u001b[0m\u001b[0mf\u001b[0m\u001b[1;33m)\u001b[0m\u001b[1;33m\u001b[0m\u001b[1;33m\u001b[0m\u001b[0m\n\u001b[0;32m      3\u001b[0m     \u001b[0mprint\u001b[0m\u001b[1;33m(\u001b[0m\u001b[0mread\u001b[0m\u001b[1;33m)\u001b[0m\u001b[1;33m\u001b[0m\u001b[1;33m\u001b[0m\u001b[0m\n\u001b[0;32m      4\u001b[0m \u001b[1;33m\u001b[0m\u001b[0m\n",
      "\u001b[1;31mFileNotFoundError\u001b[0m: [Errno 2] No such file or directory: 'aic.csv'"
     ]
    }
   ],
   "source": [
    "with open(\"aic.csv\") as f:\n",
    "    read = csv.reader(f)\n",
    "    print(read)\n",
    "    "
   ]
  },
  {
   "cell_type": "code",
   "execution_count": 57,
   "metadata": {},
   "outputs": [
    {
     "name": "stdout",
     "output_type": "stream",
     "text": [
      "You can not divided by zero\n"
     ]
    }
   ],
   "source": [
    "try:\n",
    "    print(5/0)\n",
    "except ZeroDivisionError:\n",
    "    print(\"You can not divided by zero\")"
   ]
  },
  {
   "cell_type": "code",
   "execution_count": 70,
   "metadata": {},
   "outputs": [
    {
     "name": "stdout",
     "output_type": "stream",
     "text": [
      "2.5\n",
      "[['Year', 'Event', 'Winner'], ['1995', 'Best-Kept Lawn', 'None'], ['1999', 'Gobstones', 'Welch Nationional'], ['2006', 'World Cup', 'Burkina Faso']]\n",
      "You have made some mistake\n"
     ]
    }
   ],
   "source": [
    "try:\n",
    "    print(5/2)\n",
    "    with open(\"ai.csv\") as f:\n",
    "        read = csv.reader(f)\n",
    "        print(list(read))\n",
    "    print(int(\"a\"))\n",
    "except ZeroDivisionError:\n",
    "    print(\"You can not divided by zero\")\n",
    "except FileNotFoundError:\n",
    "    print(\"Given file is not exist\")   \n",
    "\n",
    "except Exception as e:\n",
    "    print(\"You have made some mistake\")"
   ]
  },
  {
   "cell_type": "code",
   "execution_count": 76,
   "metadata": {},
   "outputs": [
    {
     "name": "stdout",
     "output_type": "stream",
     "text": [
      "You can not divided by zero\n",
      "I will always run.  Mae tumha nhe janta\n"
     ]
    }
   ],
   "source": [
    "try:\n",
    "    a = 5/0\n",
    "except ZeroDivisionError:\n",
    "    print(\"You can not divided by zero\")\n",
    "except FileNotFoundError:\n",
    "    print(\"Given file is not exist\")   \n",
    "except Exception as e:\n",
    "    print(\"You have made some mistake\")\n",
    "else:\n",
    "    print(a)\n",
    "finally:\n",
    "    print(\"I will always run.  Mae tumha nhe janta\")"
   ]
  },
  {
   "cell_type": "code",
   "execution_count": 77,
   "metadata": {},
   "outputs": [
    {
     "name": "stdout",
     "output_type": "stream",
     "text": [
      "What text file to open? data1.txt\n",
      "Sorry, data1.txt not found.\n",
      "What text file to open? datadata.txt\n",
      "Sorry, datadata.txt not found.\n",
      "What text file to open? data.txt\n",
      "Another line3rd line\n",
      "3rd line\n",
      "3rd line4th line\n"
     ]
    }
   ],
   "source": [
    "while True:\n",
    "    try:\n",
    "        filename = input(\"What text file to open? \")\n",
    "        with open(filename) as f:\n",
    "            print(f.read())\n",
    "        break\n",
    "    except FileNotFoundError:\n",
    "        print(\"Sorry, \" + filename + \" not found.\")"
   ]
  },
  {
   "cell_type": "code",
   "execution_count": null,
   "metadata": {},
   "outputs": [],
   "source": []
  }
 ],
 "metadata": {
  "kernelspec": {
   "display_name": "Python 3",
   "language": "python",
   "name": "python3"
  },
  "language_info": {
   "codemirror_mode": {
    "name": "ipython",
    "version": 3
   },
   "file_extension": ".py",
   "mimetype": "text/x-python",
   "name": "python",
   "nbconvert_exporter": "python",
   "pygments_lexer": "ipython3",
   "version": "3.7.3"
  }
 },
 "nbformat": 4,
 "nbformat_minor": 2
}
