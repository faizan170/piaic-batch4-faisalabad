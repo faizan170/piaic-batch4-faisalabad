{
 "cells": [
  {
   "cell_type": "code",
   "execution_count": 2,
   "metadata": {},
   "outputs": [
    {
     "name": "stdout",
     "output_type": "stream",
     "text": [
      "3 6 32 "
     ]
    }
   ],
   "source": [
    "lst=[[1,2,3],\n",
    "    [4,5,6],\n",
    "    [98,21,32]]\n",
    "\n",
    "for i in range(0,3):\n",
    "     print(lst[i].pop(), end = \"\")"
   ]
  },
  {
   "cell_type": "markdown",
   "metadata": {},
   "source": [
    "1. 3,6,32\n",
    "\n",
    "2. \n",
    " * 3\n",
    " * 6\n",
    " * 32\n",
    "3. 3 6 32\n",
    "4. 3632"
   ]
  },
  {
   "cell_type": "code",
   "execution_count": 4,
   "metadata": {},
   "outputs": [
    {
     "data": {
      "text/plain": [
       "True"
      ]
     },
     "execution_count": 4,
     "metadata": {},
     "output_type": "execute_result"
    }
   ],
   "source": [
    "29.0 == 29\n",
    "\n",
    "# 29\n",
    "# True\n",
    "# False\n",
    "# None of the above"
   ]
  },
  {
   "cell_type": "code",
   "execution_count": null,
   "metadata": {},
   "outputs": [],
   "source": [
    "Need below out put on following code\n",
    "\n",
    "x\n",
    "y\n",
    "z"
   ]
  },
  {
   "cell_type": "code",
   "execution_count": 14,
   "metadata": {},
   "outputs": [],
   "source": [
    "#code\n",
    "    \n",
    "dic = {}\n",
    "lst = [\"x\",\"y\",\"z\",\"a\"]\n",
    "\n",
    "for i in range(len(lst)-1):\n",
    "    dic[lst[i]] = (lst[i],)\n",
    "  \n",
    "for i in sorted(dic.keys()):\n",
    "    k = dic[i]\n",
    "    # insert ur code.\n",
    "    "
   ]
  },
  {
   "cell_type": "markdown",
   "metadata": {},
   "source": [
    "1. print(k)\n",
    "2. print(k[\"0\"])\n",
    "3. print(k['0'])\n",
    "4. print(k[0])"
   ]
  },
  {
   "cell_type": "markdown",
   "metadata": {},
   "source": [
    "What are the way of making dictionary\n",
    "\n",
    "1. dic = {}\n",
    "2. dic = {\"ali\":1,\"waqas\":2}\n",
    "3. dic = {1:\"ali\",2:\"Waqas\"}\n",
    "4.  All of the above"
   ]
  },
  {
   "cell_type": "code",
   "execution_count": 15,
   "metadata": {},
   "outputs": [
    {
     "ename": "AttributeError",
     "evalue": "'tuple' object has no attribute 'append'",
     "output_type": "error",
     "traceback": [
      "\u001b[1;31m---------------------------------------------------------------------------\u001b[0m",
      "\u001b[1;31mAttributeError\u001b[0m                            Traceback (most recent call last)",
      "\u001b[1;32m<ipython-input-15-d8037460340c>\u001b[0m in \u001b[0;36m<module>\u001b[1;34m\u001b[0m\n\u001b[0;32m      1\u001b[0m \u001b[0mtup\u001b[0m \u001b[1;33m=\u001b[0m \u001b[1;33m(\u001b[0m\u001b[1;36m1\u001b[0m\u001b[1;33m,\u001b[0m\u001b[1;36m2\u001b[0m\u001b[1;33m,\u001b[0m\u001b[1;36m3\u001b[0m\u001b[1;33m)\u001b[0m\u001b[1;33m\u001b[0m\u001b[1;33m\u001b[0m\u001b[0m\n\u001b[1;32m----> 2\u001b[1;33m \u001b[0mtup\u001b[0m\u001b[1;33m.\u001b[0m\u001b[0mappend\u001b[0m\u001b[1;33m(\u001b[0m\u001b[1;36m4\u001b[0m\u001b[1;33m)\u001b[0m\u001b[1;33m\u001b[0m\u001b[1;33m\u001b[0m\u001b[0m\n\u001b[0m\u001b[0;32m      3\u001b[0m \u001b[0mprint\u001b[0m\u001b[1;33m(\u001b[0m\u001b[0mtup\u001b[0m\u001b[1;33m[\u001b[0m\u001b[1;33m-\u001b[0m\u001b[1;36m1\u001b[0m\u001b[1;33m]\u001b[0m\u001b[1;33m)\u001b[0m\u001b[1;33m\u001b[0m\u001b[1;33m\u001b[0m\u001b[0m\n",
      "\u001b[1;31mAttributeError\u001b[0m: 'tuple' object has no attribute 'append'"
     ]
    }
   ],
   "source": [
    "tup = (1,2,3)\n",
    "tup.append(4)\n",
    "print(tup[-1])"
   ]
  },
  {
   "cell_type": "markdown",
   "metadata": {},
   "source": [
    "What will be the output\n",
    "\n",
    "1. error\n",
    "2. 4\n",
    "3. 3\n",
    "4. 1"
   ]
  },
  {
   "cell_type": "code",
   "execution_count": 16,
   "metadata": {},
   "outputs": [
    {
     "name": "stdout",
     "output_type": "stream",
     "text": [
      "OK\n"
     ]
    }
   ],
   "source": [
    "if False:\n",
    "    print(\"Waqas\")\n",
    "elif not(True):\n",
    "    print(\"Me\")\n",
    "elif True:\n",
    "    print(\"OK\")\n",
    "else:\n",
    "    print(\"finished\")"
   ]
  },
  {
   "cell_type": "markdown",
   "metadata": {},
   "source": [
    "What will be the answer\n",
    "\n",
    "1. \"Waqas\"\n",
    "2. \"Me\"\n",
    "3. \"OK\"\n",
    "4. \"Finished\""
   ]
  },
  {
   "cell_type": "code",
   "execution_count": 19,
   "metadata": {},
   "outputs": [
    {
     "data": {
      "text/plain": [
       "False"
      ]
     },
     "execution_count": 19,
     "metadata": {},
     "output_type": "execute_result"
    }
   ],
   "source": [
    "0.2 + 0.4 == 0.6"
   ]
  },
  {
   "cell_type": "markdown",
   "metadata": {},
   "source": [
    "What is the output\n",
    "\n",
    "1. True\n",
    "2. Error\n",
    "3. False"
   ]
  },
  {
   "cell_type": "code",
   "execution_count": 20,
   "metadata": {},
   "outputs": [
    {
     "name": "stdout",
     "output_type": "stream",
     "text": [
      "as\n"
     ]
    }
   ],
   "source": [
    "my_name = \"Waqas Ali\"\n",
    "print(my_name[3:5])"
   ]
  },
  {
   "cell_type": "markdown",
   "metadata": {},
   "source": [
    "1. \"aq\"\n",
    "2. \"qa\"\n",
    "3. \"as\"\n",
    "4. \"s \""
   ]
  },
  {
   "cell_type": "code",
   "execution_count": null,
   "metadata": {},
   "outputs": [],
   "source": [
    "l = [1,3,5,7,9,11]\n",
    "l = [1,3,5,7,9,11]\n",
    "\n",
    "for i in range(1,6):\n",
    "    l[i-1] = l[i]\n",
    "\n",
    "for i in range(0,6):\n",
    "    print(l[i], end = \"\")"
   ]
  },
  {
   "cell_type": "markdown",
   "metadata": {},
   "source": [
    "1. 1357911\n",
    "2. 35791111\n",
    "3. 3579111\n",
    "4. 1113579"
   ]
  },
  {
   "cell_type": "code",
   "execution_count": 27,
   "metadata": {},
   "outputs": [
    {
     "name": "stdout",
     "output_type": "stream",
     "text": [
      "Yes\n",
      "ok\n",
      "over\n"
     ]
    }
   ],
   "source": [
    "if \"time\" in {\"name\":\"Saleem\", \"course\":\"A.I\", \"time\":\"9-3.30\"}:\n",
    "    print(\"Yes\")\n",
    "    print(\"ok\")\n",
    "    if \"c\" in \"sea\":\n",
    "        print(\"ocean\")\n",
    "print(\"over\")"
   ]
  },
  {
   "cell_type": "markdown",
   "metadata": {},
   "source": [
    "1. \"ocean\"\n",
    "2. * \"Yes\"\n",
    "   * \"ok\"\n",
    "   * \"over\"\n",
    "3. \"over\"\n",
    "4. * \"Yes\"\n",
    "   * \"ok\""
   ]
  },
  {
   "cell_type": "code",
   "execution_count": 29,
   "metadata": {},
   "outputs": [
    {
     "name": "stdout",
     "output_type": "stream",
     "text": [
      "17.5\n"
     ]
    }
   ],
   "source": [
    "maths = 2/4 + 4//4 + 4**2\n",
    "print(maths)"
   ]
  },
  {
   "cell_type": "markdown",
   "metadata": {},
   "source": [
    "1. runtime error\n",
    "2. syntax error\n",
    "3. 17.5\n",
    "4. 16"
   ]
  },
  {
   "cell_type": "code",
   "execution_count": null,
   "metadata": {},
   "outputs": [],
   "source": [
    "names = [\"ali\", \"noman\", \"rizwan\", \"asad\"]\n",
    "\n",
    "for name in names:\n",
    "    if name == \"rizwan\":\n",
    "        print(name.title())\n",
    "    else:\n",
    "        print(name.lower())"
   ]
  },
  {
   "cell_type": "markdown",
   "metadata": {},
   "source": [
    "1. * ali\n",
    "   * noman\n",
    "   * rizwan\n",
    "   * asad\n",
    "2. * Ali\n",
    "   * Noman\n",
    "   * Rizwan\n",
    "   * Asad\n",
    "   \n",
    "3. * ali\n",
    "   * noman\n",
    "   * Rizwan\n",
    "   * asad\n",
    "   \n",
    "4. None of above"
   ]
  },
  {
   "cell_type": "code",
   "execution_count": 30,
   "metadata": {},
   "outputs": [
    {
     "name": "stdout",
     "output_type": "stream",
     "text": [
      "(1, 2, 3, [1, 20, 3])\n"
     ]
    }
   ],
   "source": [
    "items = (1,2,3,[1,2,3])\n",
    "items[3][1] = 20\n",
    "print(items)"
   ]
  },
  {
   "cell_type": "markdown",
   "metadata": {},
   "source": [
    "1. error\n",
    "2. (1,2,3,[1,2,3])\n",
    "3. (1, 2, 3, [1, 20, 3])\n",
    "4. None of above"
   ]
  },
  {
   "cell_type": "code",
   "execution_count": 31,
   "metadata": {},
   "outputs": [
    {
     "name": "stdout",
     "output_type": "stream",
     "text": [
      "1/2/2020\n"
     ]
    }
   ],
   "source": [
    "print(1,2,2020, sep = \"/\")"
   ]
  },
  {
   "cell_type": "markdown",
   "metadata": {},
   "source": [
    "1. 122020\n",
    "2. 2023\n",
    "3. 1/2/2020\n",
    "4. syntax error"
   ]
  },
  {
   "cell_type": "markdown",
   "metadata": {},
   "source": [
    "Which legal variable definition is correct\n",
    "\n",
    "1. variable can start with underscore\n",
    "2. variable can not start with digit\n",
    "3. variable can be a combination of letter and underscore\n",
    "4. option 1,2 and 3 are correct\n",
    "5. none of above"
   ]
  },
  {
   "cell_type": "code",
   "execution_count": 32,
   "metadata": {},
   "outputs": [
    {
     "data": {
      "text/plain": [
       "True"
      ]
     },
     "execution_count": 32,
     "metadata": {},
     "output_type": "execute_result"
    }
   ],
   "source": [
    "students = {\"ali\":1, 2:\"Zohaib\"}\n",
    "\n",
    "2 in students"
   ]
  },
  {
   "cell_type": "markdown",
   "metadata": {},
   "source": [
    "1. False\n",
    "2. Error\n",
    "3. True\n",
    "4. None"
   ]
  },
  {
   "cell_type": "code",
   "execution_count": 33,
   "metadata": {},
   "outputs": [
    {
     "name": "stdout",
     "output_type": "stream",
     "text": [
      "0\n"
     ]
    }
   ],
   "source": [
    "a = 3\n",
    "a += 3\n",
    "a = 5\n",
    "a -= 5\n",
    "print(a)"
   ]
  },
  {
   "cell_type": "markdown",
   "metadata": {},
   "source": [
    "1. 3\n",
    "2. 6\n",
    "3. 5\n",
    "4. 0"
   ]
  },
  {
   "cell_type": "code",
   "execution_count": 36,
   "metadata": {},
   "outputs": [
    {
     "name": "stdout",
     "output_type": "stream",
     "text": [
      "2\n"
     ]
    }
   ],
   "source": [
    "a = 9%3 \n",
    "b = (5*a+5)//2\n",
    "print(b)"
   ]
  },
  {
   "cell_type": "markdown",
   "metadata": {},
   "source": [
    "1. 10\n",
    "2. 10.0\n",
    "3. 5.0\n",
    "4. 2"
   ]
  },
  {
   "cell_type": "code",
   "execution_count": 37,
   "metadata": {},
   "outputs": [
    {
     "name": "stdout",
     "output_type": "stream",
     "text": [
      "bc\n"
     ]
    }
   ],
   "source": [
    "if (\"a\"> \"b\") and (\"c\">\"b\"):\n",
    "    print(\"abc\")\n",
    "elif (\"c\">\"b\") or False:\n",
    "    print(\"bc\")\n",
    "else:\n",
    "    print(None)"
   ]
  },
  {
   "cell_type": "markdown",
   "metadata": {},
   "source": [
    "Output would be\n",
    "\n",
    "1. \"abc\"\n",
    "2. \"bc\"\n",
    "3. None"
   ]
  },
  {
   "cell_type": "code",
   "execution_count": 38,
   "metadata": {},
   "outputs": [
    {
     "name": "stdout",
     "output_type": "stream",
     "text": [
      "[2, 2, 2, 3]\n"
     ]
    }
   ],
   "source": [
    "l = [2,3]\n",
    "\n",
    "for k in range(2):\n",
    "    l.insert(-1,l[k])\n",
    "print(l)"
   ]
  },
  {
   "cell_type": "markdown",
   "metadata": {},
   "source": [
    "1. [2,3,3,3]\n",
    "2. [2,3,2,3]\n",
    "3. [2,2,2,3]\n",
    "4. [2,2,3,3]"
   ]
  },
  {
   "cell_type": "code",
   "execution_count": 39,
   "metadata": {},
   "outputs": [
    {
     "name": "stdout",
     "output_type": "stream",
     "text": [
      "3333\n"
     ]
    }
   ],
   "source": [
    "a = 3\n",
    "b = str(3)\n",
    "\n",
    "print(a*b + b)"
   ]
  },
  {
   "cell_type": "markdown",
   "metadata": {},
   "source": [
    "1. syntax error\n",
    "2. runtime error\n",
    "3. 12\n",
    "4. 3333"
   ]
  },
  {
   "cell_type": "code",
   "execution_count": 43,
   "metadata": {},
   "outputs": [
    {
     "name": "stdout",
     "output_type": "stream",
     "text": [
      "3+7 =37\n"
     ]
    }
   ],
   "source": [
    "a = \"3+7 =\"\n",
    "b = 3\n",
    "c = 7\n",
    "print(a+\"\"+ str(b)+str(c))"
   ]
  },
  {
   "cell_type": "markdown",
   "metadata": {},
   "source": [
    "1. 10\n",
    "2. \"3+7 =10\"\n",
    "3. \"3+7 = 37\"\n",
    "4. error"
   ]
  },
  {
   "cell_type": "code",
   "execution_count": 44,
   "metadata": {},
   "outputs": [
    {
     "name": "stdout",
     "output_type": "stream",
     "text": [
      "[2, 2, 2, 3]\n"
     ]
    }
   ],
   "source": [
    "l = [2,3]\n",
    "\n",
    "for k in range(2):\n",
    "    l.insert(1,l[k])\n",
    "print(l)"
   ]
  },
  {
   "cell_type": "markdown",
   "metadata": {},
   "source": [
    "1. [2,3,3,3]\n",
    "2. [2,3,2,3]\n",
    "3. [2,2,2,3]\n",
    "4. [2,2,3,3]"
   ]
  },
  {
   "cell_type": "code",
   "execution_count": 45,
   "metadata": {},
   "outputs": [
    {
     "name": "stdout",
     "output_type": "stream",
     "text": [
      "5\n"
     ]
    }
   ],
   "source": [
    "x = 5\n",
    "y = 3\n",
    "z = x\n",
    "\n",
    "if (int(5) + int(3)) == 8:\n",
    "    x = 10\n",
    "    y += 2\n",
    "else:\n",
    "    y = 6\n",
    "\n",
    "print(z)    "
   ]
  },
  {
   "cell_type": "markdown",
   "metadata": {},
   "source": [
    "1. 10\n",
    "2. 3\n",
    "3. 6\n",
    "4. 5"
   ]
  },
  {
   "cell_type": "code",
   "execution_count": 46,
   "metadata": {},
   "outputs": [
    {
     "name": "stdout",
     "output_type": "stream",
     "text": [
      "False\n"
     ]
    }
   ],
   "source": [
    "dictionary = {\"Name\":\"Waqas\", \"age\":27}\n",
    "id1 = id(dictionary)\n",
    "del dictionary\n",
    "dictionary = {\"Name\":\"Waqas\", \"age\":27}\n",
    "id2 = id(dictionary)\n",
    "print(id1 == id2)"
   ]
  },
  {
   "cell_type": "markdown",
   "metadata": {},
   "source": [
    "1. True\n",
    "2. False\n",
    "3. Exception\n",
    "4. error"
   ]
  },
  {
   "cell_type": "code",
   "execution_count": 47,
   "metadata": {},
   "outputs": [
    {
     "name": "stdout",
     "output_type": "stream",
     "text": [
      "-2\n"
     ]
    }
   ],
   "source": [
    "lst = [1,2,-1,-2]\n",
    "\n",
    "\n",
    "\n",
    "print(lst[lst[-2]])"
   ]
  },
  {
   "cell_type": "markdown",
   "metadata": {},
   "source": [
    "1. 1\n",
    "2. 2\n",
    "3. -1\n",
    "4. -2"
   ]
  },
  {
   "cell_type": "markdown",
   "metadata": {},
   "source": [
    "How to add new item in a list1\n",
    "\n",
    "1. list1.append(5)\n",
    "2. list1.insert(1,5)\n",
    "3. list1.pop(5)\n",
    "4. list1.index(5)\n",
    "5. list1.add(5)\n",
    "6. list1.addend(5)"
   ]
  },
  {
   "cell_type": "code",
   "execution_count": 48,
   "metadata": {},
   "outputs": [
    {
     "ename": "TypeError",
     "evalue": "'int' object is not subscriptable",
     "output_type": "error",
     "traceback": [
      "\u001b[1;31m---------------------------------------------------------------------------\u001b[0m",
      "\u001b[1;31mTypeError\u001b[0m                                 Traceback (most recent call last)",
      "\u001b[1;32m<ipython-input-48-9deb7d09d2b1>\u001b[0m in \u001b[0;36m<module>\u001b[1;34m\u001b[0m\n\u001b[0;32m      1\u001b[0m \u001b[0mt\u001b[0m \u001b[1;33m=\u001b[0m \u001b[1;33m(\u001b[0m\u001b[1;36m1\u001b[0m\u001b[1;33m,\u001b[0m\u001b[1;36m2\u001b[0m\u001b[1;33m,\u001b[0m\u001b[1;36m3\u001b[0m\u001b[1;33m,\u001b[0m\u001b[1;36m4\u001b[0m\u001b[1;33m)\u001b[0m\u001b[1;33m\u001b[0m\u001b[1;33m\u001b[0m\u001b[0m\n\u001b[0;32m      2\u001b[0m \u001b[0mt\u001b[0m \u001b[1;33m=\u001b[0m \u001b[0mt\u001b[0m\u001b[1;33m[\u001b[0m\u001b[1;36m2\u001b[0m\u001b[1;33m-\u001b[0m\u001b[1;36m2\u001b[0m\u001b[1;33m]\u001b[0m\u001b[1;33m\u001b[0m\u001b[1;33m\u001b[0m\u001b[0m\n\u001b[1;32m----> 3\u001b[1;33m \u001b[0mt\u001b[0m \u001b[1;33m=\u001b[0m \u001b[0mt\u001b[0m\u001b[1;33m[\u001b[0m\u001b[1;36m0\u001b[0m\u001b[1;33m]\u001b[0m\u001b[1;33m\u001b[0m\u001b[1;33m\u001b[0m\u001b[0m\n\u001b[0m\u001b[0;32m      4\u001b[0m \u001b[0mprint\u001b[0m\u001b[1;33m(\u001b[0m\u001b[0mt\u001b[0m\u001b[1;33m)\u001b[0m\u001b[1;33m\u001b[0m\u001b[1;33m\u001b[0m\u001b[0m\n",
      "\u001b[1;31mTypeError\u001b[0m: 'int' object is not subscriptable"
     ]
    }
   ],
   "source": [
    "t = (1,2,3,4)\n",
    "t = t[2-2]\n",
    "t = t[0]\n",
    "print(t)"
   ]
  },
  {
   "cell_type": "markdown",
   "metadata": {},
   "source": [
    "1. 2\n",
    "2. 0\n",
    "3. 1\n",
    "4. error\n"
   ]
  },
  {
   "cell_type": "code",
   "execution_count": 49,
   "metadata": {},
   "outputs": [
    {
     "name": "stdout",
     "output_type": "stream",
     "text": [
      "2\n"
     ]
    }
   ],
   "source": [
    "l = [1,8,16,24,32]\n",
    "print(l.index(16))"
   ]
  },
  {
   "cell_type": "markdown",
   "metadata": {},
   "source": [
    "1. 0\n",
    "2. 1\n",
    "3. 3\n",
    "4. 2"
   ]
  },
  {
   "cell_type": "markdown",
   "metadata": {},
   "source": [
    "illegal variable\n",
    "\n",
    "1. inner\n",
    "2. Inner\n",
    "3. 1nner\n",
    "4. INNER\n"
   ]
  },
  {
   "cell_type": "code",
   "execution_count": 50,
   "metadata": {},
   "outputs": [
    {
     "name": "stdout",
     "output_type": "stream",
     "text": [
      "False\n"
     ]
    }
   ],
   "source": [
    "print (not(5>4))"
   ]
  },
  {
   "cell_type": "markdown",
   "metadata": {},
   "source": [
    "1. True\n",
    "2. False\n",
    "3. None of above"
   ]
  },
  {
   "cell_type": "markdown",
   "metadata": {},
   "source": [
    "list of range 1 to 11\n",
    "\n",
    "1. range(0,10) + 1\n",
    "2. range(1,11)\n",
    "3. range(0,11) + 1\n",
    "4. range(1,2,3,4,5,6,7,8,9,10,11)\n"
   ]
  },
  {
   "cell_type": "markdown",
   "metadata": {},
   "source": [
    "1. if a<b:if a > 9: print(\"ok\")\n",
    "2. if a<b:print(\"ok\") else:print(\"ok2\")\n",
    "3. if a<b:print(\"ok\")\n",
    "\n",
    "   elif a>b:print(\"ok1\")\n",
    "   \n",
    "   else:print(\"ok2\")\n",
    "4. All of above"
   ]
  },
  {
   "cell_type": "code",
   "execution_count": 57,
   "metadata": {},
   "outputs": [],
   "source": [
    "if False:\n",
    "    print(\"OK\")"
   ]
  },
  {
   "cell_type": "markdown",
   "metadata": {},
   "source": [
    "1. False\n",
    "2. \"OK\"\n",
    "3. error\n",
    "4. Nothing will be printed"
   ]
  },
  {
   "cell_type": "markdown",
   "metadata": {},
   "source": [
    "Python is\n",
    "\n",
    "1. interpreted language\n",
    "2. high level language\n",
    "3. object oriented language\n",
    "4. All of above"
   ]
  },
  {
   "cell_type": "code",
   "execution_count": null,
   "metadata": {},
   "outputs": [],
   "source": [
    "fruits = [\"Apple\", \"Mango\", \"Grapes\",\"Apple\", \"Mango\", \"Grapes\",\"Apple\", \"Mango\", \"Grapes\",\"Apple\", \"Mango\", \"Grapes\",\"Apple\", \"Mango\", \"Grapes\",\"Apple\", \"Mango\", \"Grapes\",\"Apple\", \"Mango\", \"Grapes\",\"Apple\", \"Mango\", \"Grapes\",\"Apple\", \"Mango\", \"Grapes\",\"Apple\", \"Mango\", \"Grapes\",\"Apple\", \"Mango\", \"Grapes\",\"Apple\", \"Mango\", \"Grapes\",\"Apple\", \"Mango\", \"Grapes\",\"Apple\", \"Mango\", \"Grapes\",\"Apple\", \"Mango\", \"Grapes\",\"Mango\", \"Grapes\",\"Mango\", \"Grapes\",\"Mango\", \"Grapes\",\"Mango\", \"Grapes\",\"Mango\", \"Grapes\",\"Mango\", \"Grapes\",\"Mango\", \"Grapes\",\"Mango\", \"Grapes\",\"Mango\", \"Grapes\",\"Mango\", \"Grapes\"\n",
    "         ]"
   ]
  },
  {
   "cell_type": "code",
   "execution_count": null,
   "metadata": {},
   "outputs": [],
   "source": [
    "fruit_freq = {}\n",
    "\n",
    "for i in fruits:\n",
    "    if i not in fruit_freq:\n",
    "        fruit_freq[i] = 1\n",
    "    else:\n",
    "        fruit_freq[i]+=1"
   ]
  },
  {
   "cell_type": "code",
   "execution_count": null,
   "metadata": {},
   "outputs": [],
   "source": [
    "fruit_freq"
   ]
  },
  {
   "cell_type": "code",
   "execution_count": null,
   "metadata": {},
   "outputs": [],
   "source": [
    "len(fruits)"
   ]
  },
  {
   "cell_type": "code",
   "execution_count": null,
   "metadata": {},
   "outputs": [],
   "source": []
  },
  {
   "cell_type": "code",
   "execution_count": null,
   "metadata": {},
   "outputs": [],
   "source": []
  }
 ],
 "metadata": {
  "kernelspec": {
   "display_name": "Python 3",
   "language": "python",
   "name": "python3"
  },
  "language_info": {
   "codemirror_mode": {
    "name": "ipython",
    "version": 3
   },
   "file_extension": ".py",
   "mimetype": "text/x-python",
   "name": "python",
   "nbconvert_exporter": "python",
   "pygments_lexer": "ipython3",
   "version": "3.7.3"
  }
 },
 "nbformat": 4,
 "nbformat_minor": 2
}
